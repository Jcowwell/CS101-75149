{
 "cells": [
  {
   "cell_type": "markdown",
   "source": [
    "# What is Python?\n",
    "\n",
    "Python is a *programming language*\n",
    "Through Programming Languages, we can tell computers (and remember your first discussion board about what a computer is) *exactly* what to do.\n",
    "It might look scary at first, but it's just like any other language: a means of communication. \n",
    "The only difference between Programming Languages & Natural Languages (English, Spanish, Mandarin, Tagalog) is that the former is communication between Humans & computers, and the latter is communication between people (and well pets)"
   ],
   "metadata": {}
  },
  {
   "cell_type": "markdown",
   "source": [
    "Like any language, Python has rules and *syntax*: the arrangement of words and phrases to make well-formed sentences and expressions\". \n",
    "For example: \"like I you\" does not make sense. In English, you're taught how to properly format sentences and where subjects (\"I\") and  predicates (\"like you\") should be to make sense. \"like I you,\" when said to you out loud, *sounds* wrong even without you having to think. Thankfully, since you have intelligence, you can reform the sentence in your head to accurately predict what the sentence means. Computers, on the other hand, cannot."
   ],
   "metadata": {}
  },
  {
   "cell_type": "markdown",
   "source": [
    "## **Computers are dumb**"
   ],
   "metadata": {}
  },
  {
   "cell_type": "markdown",
   "source": [
    "I cannot emphasize this enough. Actually, I can. \n",
    "\n",
    "To say computers are dumb is to give the illusion that, as they are now, they can have the possibility of having an *inch* of intelligence and consciousness in the same way we do. Allow me to correct this:\n",
    "**Computers in no shape or form are smart, intelligent, conscious, or capable of doing anything that we do not **program** them to**. Every pixel, window drag, bug, icon, the text is something programmed by a person. On its own, a computer is incapable of making its own natural decisions. A baby can *choose* to crawl and cry if it desires, even if it's based on nothing but pure instincts. Computers do not have any instincts to even cry if they are in danger. Until Artificial Intelligence is created, Computers are basically \"rocks we tricked into \"thinking\" \"\n",
    "\n",
    "\"Any sufficiently advanced technology is indistinguishable from magic.\""
   ],
   "metadata": {}
  },
  {
   "cell_type": "markdown",
   "source": [
    "# Perform Simple Operations"
   ],
   "metadata": {}
  },
  {
   "cell_type": "markdown",
   "source": [
    "The best introduction to Python (or any programming language in general) is mathematical operations. Programming is simply telling a computer what to do, and our entire profession centers around solving problems. What better problems to solve than one's you've been doing all your life? "
   ],
   "metadata": {}
  },
  {
   "cell_type": "markdown",
   "source": [
    "## Addition"
   ],
   "metadata": {}
  },
  {
   "cell_type": "code",
   "execution_count": null,
   "source": [
    "2 + 2"
   ],
   "outputs": [],
   "metadata": {}
  },
  {
   "cell_type": "code",
   "execution_count": null,
   "source": [
    "4 + 70"
   ],
   "outputs": [],
   "metadata": {}
  },
  {
   "cell_type": "code",
   "execution_count": null,
   "source": [
    "-1 + -2"
   ],
   "outputs": [],
   "metadata": {}
  },
  {
   "cell_type": "code",
   "execution_count": null,
   "source": [
    "-70 + 70"
   ],
   "outputs": [],
   "metadata": {}
  },
  {
   "cell_type": "markdown",
   "source": [
    "## Subtraction"
   ],
   "metadata": {}
  },
  {
   "cell_type": "code",
   "execution_count": null,
   "source": [
    "2 - 2"
   ],
   "outputs": [],
   "metadata": {}
  },
  {
   "cell_type": "code",
   "execution_count": null,
   "source": [
    "4 - 70"
   ],
   "outputs": [],
   "metadata": {}
  },
  {
   "cell_type": "code",
   "execution_count": null,
   "source": [
    "-1 - -2"
   ],
   "outputs": [],
   "metadata": {}
  },
  {
   "cell_type": "code",
   "execution_count": null,
   "source": [
    "-70 - 70"
   ],
   "outputs": [],
   "metadata": {}
  },
  {
   "cell_type": "markdown",
   "source": [
    "## Multiplication"
   ],
   "metadata": {}
  },
  {
   "cell_type": "code",
   "execution_count": null,
   "source": [
    "2 * 2"
   ],
   "outputs": [],
   "metadata": {}
  },
  {
   "cell_type": "code",
   "execution_count": null,
   "source": [
    "4 * 70"
   ],
   "outputs": [],
   "metadata": {}
  },
  {
   "cell_type": "code",
   "execution_count": null,
   "source": [
    "-1 * -2"
   ],
   "outputs": [],
   "metadata": {}
  },
  {
   "cell_type": "code",
   "execution_count": null,
   "source": [
    "-70 * 70"
   ],
   "outputs": [],
   "metadata": {}
  },
  {
   "cell_type": "markdown",
   "source": [
    "> Rememeber PEMDAS!\n",
    "(Also notice the differnce in output between / and //. This will get relevant in a minute.)"
   ],
   "metadata": {}
  },
  {
   "cell_type": "code",
   "execution_count": null,
   "source": [
    "(3 + 2) // 4"
   ],
   "outputs": [],
   "metadata": {}
  },
  {
   "cell_type": "code",
   "execution_count": null,
   "source": [
    "2 * 1 // 3"
   ],
   "outputs": [],
   "metadata": {}
  },
  {
   "cell_type": "code",
   "execution_count": null,
   "source": [
    "2 * 1 / 3"
   ],
   "outputs": [],
   "metadata": {}
  },
  {
   "cell_type": "markdown",
   "source": [
    "> We're going to circle back to division in a bit"
   ],
   "metadata": {}
  },
  {
   "cell_type": "code",
   "execution_count": null,
   "source": [
    "2 // 1 * 2"
   ],
   "outputs": [],
   "metadata": {}
  },
  {
   "cell_type": "code",
   "execution_count": null,
   "source": [
    "2 / 1 * 2"
   ],
   "outputs": [],
   "metadata": {}
  },
  {
   "cell_type": "markdown",
   "source": [
    "# Floats"
   ],
   "metadata": {}
  },
  {
   "cell_type": "markdown",
   "source": [
    "The Datatypes we saw above were called **intengers**. Intengers represents *whole real numbers without fractions*\n",
    "\n",
    "**Floats** (or floating point real values) represents *real numbers with decimals* (as opposed to integers that represent *whole* real numbers)"
   ],
   "metadata": {}
  },
  {
   "cell_type": "markdown",
   "source": [
    "Examples"
   ],
   "metadata": {}
  },
  {
   "cell_type": "code",
   "execution_count": null,
   "source": [
    "7.0"
   ],
   "outputs": [],
   "metadata": {}
  },
  {
   "cell_type": "code",
   "execution_count": null,
   "source": [
    "2.0"
   ],
   "outputs": [],
   "metadata": {}
  },
  {
   "cell_type": "code",
   "execution_count": null,
   "source": [
    "3.14594"
   ],
   "outputs": [],
   "metadata": {}
  },
  {
   "cell_type": "code",
   "execution_count": null,
   "source": [
    "8.0"
   ],
   "outputs": [],
   "metadata": {}
  },
  {
   "cell_type": "markdown",
   "source": [
    "# Exponentiation\n",
    "\n",
    "Python supports native exponentiation via two syntaxes: math.pow(x,y) where *x* is your base number and *y* is your exponet & x ** y same rules mentioned before. "
   ],
   "metadata": {}
  },
  {
   "cell_type": "markdown",
   "source": [
    "math.pow way:"
   ],
   "metadata": {}
  },
  {
   "cell_type": "code",
   "execution_count": null,
   "source": [
    "# This line is called a comment. It's a way of annotating code. The program ignores these. For Python number sign/hashtag(#) and triple quotes (\"\"\"\"\"\") denote a comment\n",
    "\n",
    "# 'math' is a native module (basically a Python file) meaning it comes with Python when you install and use it. \n",
    "# In order to use Math functions we need to import (bring in) the module to ur file\n",
    "import math \n",
    "# these are varibles. They're kinda like boxes (or contianers) that hold data. The two varibles below are integer varibles\n",
    "base = 2\n",
    "exponent = 2\n",
    "# in order to use the pow function we use a (.) after out math module. this is how we call variables and functions that belong to something (in this case the math module)\n",
    "math.pow(base,exponent)"
   ],
   "outputs": [],
   "metadata": {}
  },
  {
   "cell_type": "markdown",
   "source": [
    "syntactical way:"
   ],
   "metadata": {}
  },
  {
   "cell_type": "code",
   "execution_count": null,
   "source": [
    "# this is the same as 2 ** 2. I'm just doing it this way to introduce variables to you bit early.\n",
    "base ** exponent"
   ],
   "outputs": [],
   "metadata": {}
  },
  {
   "cell_type": "markdown",
   "source": [
    "Note: math.pow will return a Float (see it has a decimal point!), and the syntactical way returns an integer! \n",
    "\n",
    "Speaking of Floats"
   ],
   "metadata": {}
  },
  {
   "cell_type": "code",
   "execution_count": null,
   "source": [
    "# If we were to write this out in mathmatical notation, this would be the square root of nine! (rememebr what square root is in exponential form)\n",
    "9 ** (1/2)"
   ],
   "outputs": [],
   "metadata": {}
  },
  {
   "cell_type": "markdown",
   "source": [
    "Since we're doing float division (/), the results will also be a float. The solution to getting an integer result might look like doing 9 ** (1//2) but it's not!\n",
    "1 // 2 results in 0 not .5 since .5 *isn't* an integer. It's caveats like these you need to keep in mind when dealing with a computer. *It's literal to a T*"
   ],
   "metadata": {}
  },
  {
   "cell_type": "code",
   "execution_count": null,
   "source": [
    "print(1 // 2)\n",
    "print(9 ** (1 // 2)) # 9 rased to the 0 is ?"
   ],
   "outputs": [],
   "metadata": {}
  },
  {
   "cell_type": "markdown",
   "source": [
    "# Quotient & Remainder\n",
    "In the Floats section we defined an saw the difference between Float division (/) and Floor Division (//) and what they produced\n",
    "\n",
    "Lets talk a bit more about Divison. When you divide, sometimes the result has a remainder. Is there a way to know what that remainder is in Python? **Yes**."
   ],
   "metadata": {}
  },
  {
   "cell_type": "code",
   "execution_count": null,
   "source": [
    "print(10 % 3)\n",
    "print(11 % 3)\n",
    "print(16 % 3)\n",
    "print(4 % 2) # Does 2 divide cleanly into 4? If so , what would the remainder be?"
   ],
   "outputs": [],
   "metadata": {}
  },
  {
   "cell_type": "markdown",
   "source": [
    "The (%) is called the **modulo operator**, and it does exactly what we need. Through the modulo operator, we can determine a bunch of things like:\n",
    "* check if a number is divisible by another\n",
    "    * for integers x and y, if x % y equals 0 then x is divisible by y\n",
    "* check if a number (x) is even or odd.\n",
    "    * for integers x and y and y = 2, if x % y equals 0, then x is even, and if not, then x is odd since all even numbers are divisible by 2\n",
    "* to do something every nth time. \n",
    "    * let's say we have a range 0...x where x is whatever limit we say it is and y is the nth time we want to check \n",
    "    * if we were to iterate over the range and perform x % y each time, for any number x where x % y equals 0, x is the yth number in the range\n",
    "    * example for range 0-10, if we want to do something every 3 times, we would perform x ** 3, and if the results are 0 **that** is when we do what we want to do "
   ],
   "metadata": {}
  }
 ],
 "metadata": {
  "interpreter": {
   "hash": "aee8b7b246df8f9039afb4144a1f6fd8d2ca17a180786b69acc140d282b71a49"
  },
  "kernelspec": {
   "name": "python3",
   "display_name": "Python 3.9.6 64-bit"
  },
  "language_info": {
   "name": "python",
   "version": "3.9.6",
   "mimetype": "text/x-python",
   "codemirror_mode": {
    "name": "ipython",
    "version": 3
   },
   "pygments_lexer": "ipython3",
   "nbconvert_exporter": "python",
   "file_extension": ".py"
  },
  "orig_nbformat": 4
 },
 "nbformat": 4,
 "nbformat_minor": 2
}