{
 "cells": [
  {
   "cell_type": "markdown",
   "source": [
    "# Strings & Variables"
   ],
   "metadata": {}
  },
  {
   "cell_type": "markdown",
   "source": [
    "## Strings\n",
    "\n",
    "Strings are a *datatype* that represents a sequence of *characters*.\n",
    "\n",
    "They are created by entering text between **two single or double quotation marks** (\"\",'')"
   ],
   "metadata": {}
  },
  {
   "cell_type": "code",
   "execution_count": null,
   "source": [
    "print(\"I like choclate milk\")\n",
    "\n",
    "print('I like choclate milk')"
   ],
   "outputs": [],
   "metadata": {}
  },
  {
   "cell_type": "markdown",
   "source": [
    "We can even do *multi-line strings*"
   ],
   "metadata": {}
  },
  {
   "cell_type": "code",
   "execution_count": null,
   "source": [
    "print(\"\"\"I\n",
    "like \n",
    "choclate milk\"\"\")"
   ],
   "outputs": [],
   "metadata": {}
  },
  {
   "cell_type": "markdown",
   "source": [
    "But wait... what if we want to use the quotation marks *in* in the string. \n",
    "\n",
    "The *Backslash* (\\) is here! The Backslash character allows for us to \"escape\" these characters so they do not cause unintended consequences to the string."
   ],
   "metadata": {}
  },
  {
   "cell_type": "code",
   "execution_count": null,
   "source": [
    "print(\"We\\'ll love choclate milk\")\n",
    "print(\"You'll love choclate milk\")"
   ],
   "outputs": [],
   "metadata": {}
  },
  {
   "cell_type": "markdown",
   "source": [
    "Remember how we had strings on multiple lines? We can do *newlines* without multiline strings\n",
    "\n",
    "the \\n represents a new line. With it, we can create multiline outputs"
   ],
   "metadata": {}
  },
  {
   "cell_type": "code",
   "execution_count": null,
   "source": [
    "print(\"I \\nlike \\nChocolate \\nmilk\")"
   ],
   "outputs": [],
   "metadata": {}
  },
  {
   "cell_type": "markdown",
   "source": [
    "## Concatenation\n",
    "\n",
    "We can \"add\" strings the same way we do integers and floats"
   ],
   "metadata": {}
  },
  {
   "cell_type": "code",
   "execution_count": null,
   "source": [
    "print(\"I\" + \"like\" + \"chocolate\" + \"milk\")\n",
    "print(\"I\" + \" like\" + \" chocolate\" + \" milk\")\n",
    "print(\"2\" + \"2\")"
   ],
   "outputs": [],
   "metadata": {}
  },
  {
   "cell_type": "markdown",
   "source": [
    "## String Operations"
   ],
   "metadata": {}
  },
  {
   "cell_type": "markdown",
   "source": [
    "We can *multiply* string by integers to produce repeated verisons of the orignal string."
   ],
   "metadata": {}
  },
  {
   "cell_type": "code",
   "execution_count": null,
   "source": [
    "print('I like choclate milk' * 3)\n",
    "# Order does not matter\n",
    "print(3 * 'I like choclate milk')"
   ],
   "outputs": [],
   "metadata": {}
  },
  {
   "cell_type": "markdown",
   "source": [
    "## Variables\n",
    "\n",
    "Variables are like boxes, containers, vessels, etc., that store whatever you assign into them. By doing this, we can reference things later by calling upon the variable's name.\n",
    "\n",
    "To assign a variable, we follow the following syntax:\n",
    "\n",
    "*name* = *whatever datatype here*"
   ],
   "metadata": {}
  },
  {
   "cell_type": "code",
   "execution_count": null,
   "source": [
    "cheese = \"I like chocolate milk\"\n",
    "print(cheese)\n",
    "cheese = 9\n",
    "print(cheese)\n",
    "cheese = 9.0\n",
    "print(cheese)"
   ],
   "outputs": [],
   "metadata": {}
  },
  {
   "cell_type": "markdown",
   "source": [
    "As you can see, when typed that way, variables have no loyalty. \n",
    "\n",
    "We can use the following syntax for explicit typing (the above was implicit typing):\n",
    "\n",
    "*name* : *datatype* = *whatever datum that follows the datatype we put*"
   ],
   "metadata": {}
  },
  {
   "cell_type": "code",
   "execution_count": null,
   "source": [
    "cheese: str = \"I like chocolate milk\"\n",
    "print(cheese)\n",
    "# The below will work but many IDE (you'll learn what that is later) will complain\n",
    "# some might even call you dumb\n",
    "cheese = 9.0\n",
    "print(cheese)"
   ],
   "outputs": [],
   "metadata": {}
  },
  {
   "cell_type": "markdown",
   "source": [
    "the only characters that are allowed for variable names are letters, numbers, and underscores"
   ],
   "metadata": {}
  },
  {
   "cell_type": "code",
   "execution_count": null,
   "source": [
    "this_is_a_name: int = 100\n",
    "print(this_is_a_name)\n",
    "# Numbers are a no no !\n",
    "123_this_will_throw_an_error = 100"
   ],
   "outputs": [],
   "metadata": {}
  },
  {
   "cell_type": "markdown",
   "source": [
    "Variables will do the same things we have looked at before"
   ],
   "metadata": {}
  },
  {
   "cell_type": "code",
   "execution_count": null,
   "source": [
    "\n",
    "x: int = 2\n",
    "y: int = 3\n",
    "\n",
    "# Addition\n",
    "print(x + y)\n",
    "\n",
    "# Subtraction\n",
    "print(x-y)\n",
    "\n",
    "# Multiplication\n",
    "print(x*y)\n",
    "\n",
    "# Float Division\n",
    "print(x / y)\n",
    "\n",
    "# Floor Diviison\n",
    "print(x // y)\n",
    "\n",
    "# Modulo\n",
    "print(x % y)\n",
    "\n",
    "# Exponentiation\n",
    "print(2**3)\n",
    "\n",
    "# String Operations\n",
    "cheese_2: str = \"I like Vanilla Milk\"\n",
    "print(cheese_2)\n",
    "print(cheese_2 * 2)\n",
    "print(cheese_2 * x)"
   ],
   "outputs": [],
   "metadata": {}
  },
  {
   "cell_type": "markdown",
   "source": [
    "## User Input\n",
    "\n",
    "Some programs take user input (like excel). A basic way to do so is via the *input function* (you will learn what a function is later).\n",
    "\n",
    "input() prompts a user for an input and returns the input as a *string*. Variables will do the same things we have looked at before"
   ],
   "metadata": {}
  },
  {
   "cell_type": "code",
   "execution_count": null,
   "source": [
    "user_input: str = input()\n",
    "print(user_input)\n",
    "# We can even prompt a user for an input by putting a String into the paranthesis ()\n",
    "user_input = input(\"Input a String\")\n",
    "print(user_input)"
   ],
   "outputs": [],
   "metadata": {}
  },
  {
   "cell_type": "markdown",
   "source": [
    "We can *cast* an input into another datatype with the cast datatype functions. "
   ],
   "metadata": {}
  },
  {
   "cell_type": "code",
   "execution_count": null,
   "source": [
    "x: int = input()\n",
    "print(x)"
   ],
   "outputs": [],
   "metadata": {}
  },
  {
   "cell_type": "markdown",
   "source": [
    "## In-Place and Walrus Operators"
   ],
   "metadata": {}
  },
  {
   "cell_type": "markdown",
   "source": [
    "### In-Place Operators\n",
    "\n",
    "In-Place Operators allow you to write basic operations (addition, subtraction, multiplication, modulo, etc.) \n",
    "\n",
    "Think of this like contractions in English where instead \"I am\" write \"I'm.\" "
   ],
   "metadata": {}
  },
  {
   "cell_type": "code",
   "execution_count": null,
   "source": [
    "x: int = 2\n",
    "# We COULD do:\n",
    "x = x + 2\n",
    "print(x)\n",
    "# OOOOOR\n",
    "x = 2\n",
    "x += 2\n",
    "print(x)"
   ],
   "outputs": [],
   "metadata": {}
  },
  {
   "cell_type": "markdown",
   "source": [
    "We can do it to strings too"
   ],
   "metadata": {}
  },
  {
   "cell_type": "code",
   "execution_count": null,
   "source": [
    "_even_this_is_variable_name: str = 'Guess what I like? '\n",
    "\n",
    "_even_this_is_variable_name += 'Chocolate Milk'\n",
    "\n",
    "print(_even_this_is_variable_name)"
   ],
   "outputs": [],
   "metadata": {}
  },
  {
   "cell_type": "markdown",
   "source": [
    "### Walrus Operator\n",
    "\n",
    "The *Walrus Operator* (:=) allows us to assign values to variables within an expression (even variables that do not exist yet.)"
   ],
   "metadata": {}
  },
  {
   "cell_type": "code",
   "execution_count": 1,
   "source": [
    "# instead of doing this:\n",
    "num = int(input())\n",
    "print(num)\n",
    "\n",
    "# let's Walrus this shit:\n",
    "print(num:=int(input()))\n",
    "\n",
    "# We can even use the variable later!\n",
    "print(num * 2)\n",
    "\n",
    "(nums := 2)"
   ],
   "outputs": [
    {
     "output_type": "stream",
     "name": "stdout",
     "text": [
      "3\n",
      "3\n",
      "6\n"
     ]
    }
   ],
   "metadata": {}
  },
  {
   "cell_type": "markdown",
   "source": [
    "Fewer Lines are used as a result and can be helpful in debugging situations."
   ],
   "metadata": {}
  }
 ],
 "metadata": {
  "orig_nbformat": 4,
  "language_info": {
   "name": "python",
   "version": "3.9.6",
   "mimetype": "text/x-python",
   "codemirror_mode": {
    "name": "ipython",
    "version": 3
   },
   "pygments_lexer": "ipython3",
   "nbconvert_exporter": "python",
   "file_extension": ".py"
  },
  "kernelspec": {
   "name": "python3",
   "display_name": "Python 3.9.6 64-bit"
  },
  "interpreter": {
   "hash": "aee8b7b246df8f9039afb4144a1f6fd8d2ca17a180786b69acc140d282b71a49"
  }
 },
 "nbformat": 4,
 "nbformat_minor": 2
}