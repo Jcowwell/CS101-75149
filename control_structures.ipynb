{
 "cells": [
  {
   "cell_type": "markdown",
   "source": [
    "# Control Structures\n",
    "\n",
    "Computers, at their core, are logical beings. They \"think\" only in three ways 1s, 0s, and Non-Existent, but for now, we will only look at the 1's and 0 ways of thinking. \n",
    "\n",
    "To us, 1's and 0's can mean anything, but in Computer Science, we usually give them the connotation of \"on\" and \"off,\" respectively. \n",
    "Another way, or rather the more common way you will encounter this, is that 1's and 0's are a means of saying **True** and **False**\n",
    "\n",
    "In most Programming Languages (thankfully, Python is one of such), we have a data type representing these two possible values. We call this datatype *Booleans*."
   ],
   "metadata": {}
  },
  {
   "cell_type": "code",
   "execution_count": 3,
   "source": [
    "isTrue: bool = True\n",
    "isFalse: bool = False\n",
    "likes_chocolate_milk: bool = True\n",
    "\n",
    "# showing it's use in vairble format\n",
    "print(likes_chocolate_milk)\n",
    "print(type(likes_chocolate_milk))\n",
    "\n",
    "print(1==1)\n",
    "print(type(1==1))"
   ],
   "outputs": [
    {
     "output_type": "stream",
     "name": "stdout",
     "text": [
      "True\n",
      "<class 'bool'>\n",
      "True\n",
      "<class 'bool'>\n"
     ]
    }
   ],
   "metadata": {}
  },
  {
   "cell_type": "markdown",
   "source": [
    "The Primary use of boolean datatypes is to be used with **conditional statements**.\n",
    "\n",
    "Conditional Statements are where expressions are compared to each other through the use of **comparison operators** (or **relational operators**)"
   ],
   "metadata": {}
  },
  {
   "cell_type": "code",
   "execution_count": 4,
   "source": [
    "# Equal Comparison\n",
    "1 == 1\n",
    "# Not Equal Comparison\n",
    "1 != 1\n",
    "# Greather Than Comparsion\n",
    "1 > 1\n",
    "# Less Than Comparsion\n",
    "1 < 1\n",
    "# Greather Than or Equal to Comparsion\n",
    "1 >= 1\n",
    "# Less Than or Equal to Comparsion\n",
    "1 <= 1"
   ],
   "outputs": [
    {
     "output_type": "execute_result",
     "data": {
      "text/plain": [
       "True"
      ]
     },
     "metadata": {},
     "execution_count": 4
    }
   ],
   "metadata": {}
  },
  {
   "cell_type": "markdown",
   "source": [
    "When can comapre even across numeric datatypes"
   ],
   "metadata": {}
  },
  {
   "cell_type": "code",
   "execution_count": 5,
   "source": [
    "print(1 > 1.0)\n",
    "print(1.0 == 1)"
   ],
   "outputs": [
    {
     "output_type": "stream",
     "name": "stdout",
     "text": [
      "False\n",
      "True\n"
     ]
    }
   ],
   "metadata": {}
  },
  {
   "cell_type": "markdown",
   "source": [
    "We can even comapre **strings** *lexicographically* (please don't ask me to pronounce this. You guys know damn well I can't)"
   ],
   "metadata": {}
  },
  {
   "cell_type": "code",
   "execution_count": 6,
   "source": [
    "print(\"abc\" > \"abd\")"
   ],
   "outputs": [
    {
     "output_type": "stream",
     "name": "stdout",
     "text": [
      "False\n"
     ]
    }
   ],
   "metadata": {}
  }
 ],
 "metadata": {
  "orig_nbformat": 4,
  "language_info": {
   "name": "python",
   "version": "3.9.7",
   "mimetype": "text/x-python",
   "codemirror_mode": {
    "name": "ipython",
    "version": 3
   },
   "pygments_lexer": "ipython3",
   "nbconvert_exporter": "python",
   "file_extension": ".py"
  },
  "kernelspec": {
   "name": "python3",
   "display_name": "Python 3.9.1 64-bit"
  },
  "interpreter": {
   "hash": "b0fa6594d8f4cbf19f97940f81e996739fb7646882a419484c72d19e05852a7e"
  }
 },
 "nbformat": 4,
 "nbformat_minor": 2
}